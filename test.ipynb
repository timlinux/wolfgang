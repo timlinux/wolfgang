{
 "cells": [
  {
   "cell_type": "code",
   "execution_count": 2,
   "id": "154c116c",
   "metadata": {},
   "outputs": [
    {
     "data": {
      "text/plain": [
       "'2.6.3'"
      ]
     },
     "execution_count": 2,
     "metadata": {},
     "output_type": "execute_result"
    }
   ],
   "source": [
    "import isce2\n",
    "isce2.version.release_version"
   ]
  },
  {
   "cell_type": "markdown",
   "id": "b7e50f36-fdea-4c4e-a7ea-a063f7db937b",
   "metadata": {},
   "source": [
    "# This is a demo notebook"
   ]
  },
  {
   "cell_type": "markdown",
   "id": "8e630ad2-0e54-47e1-8a5a-61327058c185",
   "metadata": {},
   "source": [
    "**Markdown is allowed**\n"
   ]
  },
  {
   "cell_type": "code",
   "execution_count": 3,
   "id": "b720a779-b76f-4633-94d8-0546dac834bb",
   "metadata": {},
   "outputs": [],
   "source": [
    "import numpy"
   ]
  }
 ],
 "metadata": {
  "kernelspec": {
   "display_name": "Python 3 (ipykernel)",
   "language": "python",
   "name": "python3"
  },
  "language_info": {
   "codemirror_mode": {
    "name": "ipython",
    "version": 3
   },
   "file_extension": ".py",
   "mimetype": "text/x-python",
   "name": "python",
   "nbconvert_exporter": "python",
   "pygments_lexer": "ipython3",
   "version": "3.11.8"
  }
 },
 "nbformat": 4,
 "nbformat_minor": 5
}
